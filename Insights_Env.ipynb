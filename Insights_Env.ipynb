{
 "cells": [
  {
   "cell_type": "markdown",
   "id": "ad7af1e5",
   "metadata": {},
   "source": [
    "# Insights creation for Mindmap\n"
   ]
  },
  {
   "cell_type": "markdown",
   "id": "6a31f925",
   "metadata": {},
   "source": [
    "### Steps to run before this notebook\n",
    "- Paste [OpenAPI developer key](https://beta.openai.com/account/api-keys) in the `api.key file` (_should be on the same directory_)\n",
    "- Make sure to have the `keywords.txt` file in the same directory of this notebook file (_used for Keyword identification_)"
   ]
  },
  {
   "cell_type": "markdown",
   "id": "a11c8830-ac10-4309-ac9d-5bbe1965b33e",
   "metadata": {},
   "source": [
    "## Dynamic Entities created for a Product Categories \n",
    "\n"
   ]
  },
  {
   "cell_type": "code",
   "execution_count": 17,
   "id": "649266a0-d33b-42a3-892f-9208ae3c1b9c",
   "metadata": {},
   "outputs": [
    {
     "data": {
      "text/markdown": [
       "**Input 1**: Laptop"
      ],
      "text/plain": [
       "<IPython.core.display.Markdown object>"
      ]
     },
     "metadata": {},
     "output_type": "display_data"
    },
    {
     "name": "stdout",
     "output_type": "stream",
     "text": [
      "battery life, size, weight, processor, graphics card, storage.\n",
      "\n"
     ]
    },
    {
     "data": {
      "text/markdown": [
       "**Input 2**: Purse"
      ],
      "text/plain": [
       "<IPython.core.display.Markdown object>"
      ]
     },
     "metadata": {},
     "output_type": "display_data"
    },
    {
     "name": "stdout",
     "output_type": "stream",
     "text": [
      "size, color, style, material.\n",
      "\n"
     ]
    },
    {
     "data": {
      "text/markdown": [
       "**Input 3**: Golf Club"
      ],
      "text/plain": [
       "<IPython.core.display.Markdown object>"
      ]
     },
     "metadata": {},
     "output_type": "display_data"
    },
    {
     "name": "stdout",
     "output_type": "stream",
     "text": [
      "grip, shaft, club head, loft, lie\n",
      "\n"
     ]
    },
    {
     "data": {
      "text/markdown": [
       "**Input 4**: Digital Camera"
      ],
      "text/plain": [
       "<IPython.core.display.Markdown object>"
      ]
     },
     "metadata": {},
     "output_type": "display_data"
    },
    {
     "name": "stdout",
     "output_type": "stream",
     "text": [
      "image quality, zoom, shutter speed, aperture, ISO, video quality.\n",
      "\n"
     ]
    }
   ],
   "source": [
    "import openai\n",
    "from IPython.display import display, Markdown\n",
    "\n",
    "# read the api from file\n",
    "f = open(\"api.key\", \"r\")\n",
    "api_key=f.read()\n",
    "f.close()\n",
    "# print(api_key)\n",
    "openai.api_key=api_key\n",
    "\n",
    "inputs = [\n",
    "    'Laptop',\n",
    "    'Purse',\n",
    "    'Golf Club',\n",
    "    'Digital Camera'\n",
    "    ]\n",
    "\n",
    "for i in range(len(inputs)):\n",
    "    gprompt= \"\"\"Given a product category List out the key attributes and the product category is Laptop.\n",
    "    battery life, size, weight, processor, graphics card, storage.\n",
    "    Given a product category List out the key attributes and the product category is .\"\"\"+str(inputs[i])\n",
    "\n",
    "    response = openai.Completion.create( \n",
    "        engine=\"text-davinci-002\", \n",
    "        prompt=gprompt,  \n",
    "        temperature=0.0, \n",
    "        max_tokens=255, \n",
    "        top_p=1.00)\n",
    "\n",
    "    display(Markdown('**Input '+ str(i+1)+'**: ' + inputs[i]))\n",
    "    print(response['choices'][0]['text'].strip()+'\\n')\n",
    "\n",
    "\n"
   ]
  },
  {
   "cell_type": "markdown",
   "id": "51cc24cf",
   "metadata": {},
   "source": [
    "## Dynamic Values for every entities"
   ]
  },
  {
   "cell_type": "code",
   "execution_count": 30,
   "id": "1ba10cfb",
   "metadata": {},
   "outputs": [
    {
     "name": "stdout",
     "output_type": "stream",
     "text": [
      "Nvidia,AMD,Intel.\n",
      "\n",
      "3 hours, 5 hours, 7 hours.\n",
      "\n",
      "Intel Core, AMD Ryzen, Qualcomm Snapdragon.\n",
      "\n",
      "SSD, HDD, NVMe.\n",
      "\n"
     ]
    }
   ],
   "source": [
    "inputs = [\n",
    "    'graphics card',\n",
    "    'battery life',\n",
    "    'processing power',\n",
    "    'storage'\n",
    "    ]\n",
    "\n",
    "for i in range(len(inputs)):\n",
    "    gprompt=\"Some common Storage types which may be found in a laptop are as follows: \\nSSD,HDD,NVMe.\\nSome common \"+inputs[i]+\" types which may be found in a \"+\"laptop\"+\" are as follows: \\n\"\n",
    "    response = openai.Completion.create( engine=\"text-davinci-002\", prompt=gprompt, temperature=0.7,  max_tokens=400,  top_p=1.00)\n",
    "    print(response['choices'][0]['text'].strip()+'\\n')"
   ]
  }
 ],
 "metadata": {
  "kernelspec": {
   "display_name": "Python 3.10.6 64-bit",
   "language": "python",
   "name": "python3"
  },
  "language_info": {
   "codemirror_mode": {
    "name": "ipython",
    "version": 3
   },
   "file_extension": ".py",
   "mimetype": "text/x-python",
   "name": "python",
   "nbconvert_exporter": "python",
   "pygments_lexer": "ipython3",
   "version": "3.10.6"
  },
  "vscode": {
   "interpreter": {
    "hash": "369f2c481f4da34e4445cda3fffd2e751bd1c4d706f27375911949ba6bb62e1c"
   }
  }
 },
 "nbformat": 4,
 "nbformat_minor": 5
}
