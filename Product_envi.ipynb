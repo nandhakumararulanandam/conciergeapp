{
 "cells": [
  {
   "cell_type": "markdown",
   "id": "ad7af1e5",
   "metadata": {},
   "source": [
    "# Product Envision - Intelligence\n",
    "Using GPT3 Models creating a auto text for following use cases\n",
    "- Reframe sentence for Title\n",
    "- Description creation/expansion/shrink\n",
    "- Keyword identification\n",
    "- Product summary - Web scrapping\n",
    "- Highlight words from Description"
   ]
  },
  {
   "cell_type": "markdown",
   "id": "a11c8830-ac10-4309-ac9d-5bbe1965b33e",
   "metadata": {},
   "source": [
    "## Reframe sentence for Title\n",
    "\n"
   ]
  },
  {
   "cell_type": "code",
   "execution_count": 41,
   "id": "649266a0-d33b-42a3-892f-9208ae3c1b9c",
   "metadata": {},
   "outputs": [
    {
     "data": {
      "text/markdown": [
       "Create four alterative interactive sentences with the same meaning for '**I need time tomorrow**'"
      ],
      "text/plain": [
       "<IPython.core.display.Markdown object>"
      ]
     },
     "metadata": {},
     "output_type": "display_data"
    },
    {
     "name": "stdout",
     "output_type": "stream",
     "text": [
      "I need tomorrow off.\n",
      "I need tomorrow morning.\n",
      "I need tomorrow afternoon.\n",
      "I need tomorrow evening.\n",
      "\n"
     ]
    },
    {
     "data": {
      "text/markdown": [
       "Create four alterative interactive sentences with the same meaning for '**I want to take a leave**'"
      ],
      "text/plain": [
       "<IPython.core.display.Markdown object>"
      ]
     },
     "metadata": {},
     "output_type": "display_data"
    },
    {
     "name": "stdout",
     "output_type": "stream",
     "text": [
      "1. I would like to take a leave of absence.\n",
      "2. I am interested in taking a leave of absence.\n",
      "3. I am requesting a leave of absence.\n",
      "4. I am inquiring about taking a leave of absence.\n",
      "\n"
     ]
    },
    {
     "data": {
      "text/markdown": [
       "Create four alterative interactive sentences with the same meaning for '**The search is over for a laptop that delivers the performance and battery life you’ve been looking for, all in one sleek design.**'"
      ],
      "text/plain": [
       "<IPython.core.display.Markdown object>"
      ]
     },
     "metadata": {},
     "output_type": "display_data"
    },
    {
     "name": "stdout",
     "output_type": "stream",
     "text": [
      "1. Your search for a laptop that delivers great performance and battery life is finally over! This sleek design has it all.\n",
      "2. You don't have to look any further for a laptop that meets all your needs! This design is both powerful and long-lasting.\n",
      "3. This laptop has everything you've been searching for - great performance, long battery life, and a sleek design.\n",
      "4. Stop your search for the perfect laptop! This one has it all - power, battery life, and style.\n",
      "\n"
     ]
    },
    {
     "data": {
      "text/markdown": [
       "Create four alterative interactive sentences with the same meaning for '**I was very skeptical about switching from my Motorola to a Samsung because Samsung's just aren't as durable.**'"
      ],
      "text/plain": [
       "<IPython.core.display.Markdown object>"
      ]
     },
     "metadata": {},
     "output_type": "display_data"
    },
    {
     "name": "stdout",
     "output_type": "stream",
     "text": [
      "1. I was very skeptical about switching from my Motorola to a Samsung because I wasn't sure if Samsung's were as durable.\n",
      "2. I was very skeptical about switching from my Motorola to a Samsung because I had heard that Samsung's weren't as durable.\n",
      "3. I was very skeptical about switching from my Motorola to a Samsung because I was worried that Samsung's weren't as durable.\n",
      "4. I was very skeptical about switching from my Motorola to a Samsung because I didn't think that Samsung's were as durable.\n",
      "\n"
     ]
    },
    {
     "data": {
      "text/markdown": [
       "Create four alterative interactive sentences with the same meaning for '**I will say the camera is fantastic**'"
      ],
      "text/plain": [
       "<IPython.core.display.Markdown object>"
      ]
     },
     "metadata": {},
     "output_type": "display_data"
    },
    {
     "name": "stdout",
     "output_type": "stream",
     "text": [
      "1. I am telling you the camera is fantastic.\n",
      "2. I am going to tell you that the camera is fantastic.\n",
      "3. I would like to say that the camera is fantastic.\n",
      "4. The camera is fantastic, in my opinion.\n",
      "\n"
     ]
    },
    {
     "data": {
      "text/markdown": [
       "Create four alterative interactive sentences with the same meaning for '**teen swing characteristics to produce maximum distance and a rewarding experience for beginners.**'"
      ],
      "text/plain": [
       "<IPython.core.display.Markdown object>"
      ]
     },
     "metadata": {},
     "output_type": "display_data"
    },
    {
     "name": "stdout",
     "output_type": "stream",
     "text": [
      "1. For beginners, the best way to get maximum distance on your swings is to focus on these key characteristics. \n",
      "2. If you're a beginner and looking to get the most out of your swings, keep these characteristics in mind. \n",
      "3. These characteristics are key for beginners who want to get the most distance out of their swings. \n",
      "4. Getting maximum distance and a rewarding experience out of your swings as a beginner starts with nailing these key characteristics.\n",
      "\n"
     ]
    }
   ],
   "source": [
    "import openai\n",
    "from IPython.display import display, Markdown\n",
    "\n",
    "# read the api key\n",
    "f = open(\"api.key\", \"r\")\n",
    "api_key=f.read()\n",
    "f.close()\n",
    "\n",
    "openai.api_key=api_key\n",
    "\n",
    "inputs = [ \"I need time tomorrow\",\n",
    "\"I want to take a leave\",\n",
    "\"The search is over for a laptop that delivers the performance and battery life you’ve been looking for, all in one sleek design.\",\"I was very skeptical about switching from my Motorola to a Samsung because Samsung's just aren't as durable.\",\n",
    "\"I will say the camera is fantastic\",\n",
    "\"teen swing characteristics to produce maximum distance and a rewarding experience for beginners.\"]\n",
    "gpt_prompt = \"Create four alterative interactive sentences with the same meaning for '\"\n",
    "\n",
    "for i in range(len(inputs)):\n",
    "    gprompt= gpt_prompt + inputs[i] + \"'.\"\n",
    "    \n",
    "    response = openai.Completion.create( \n",
    "        engine=\"text-davinci-002\", \n",
    "        prompt=gprompt,  \n",
    "        temperature=0, \n",
    "        max_tokens=256, \n",
    "        top_p=1.00)\n",
    "\n",
    "    display(Markdown(gpt_prompt + '**'+ inputs[i] +'**\\''))\n",
    "    print(response['choices'][0]['text'].strip()+'\\n')"
   ]
  },
  {
   "cell_type": "markdown",
   "id": "298de8ca",
   "metadata": {},
   "source": [
    "## Build Description\n",
    "Creating a description for a fixed word length"
   ]
  },
  {
   "cell_type": "code",
   "execution_count": 42,
   "id": "bd64ed93",
   "metadata": {},
   "outputs": [
    {
     "name": "stdout",
     "output_type": "stream",
     "text": [
      "\n"
     ]
    },
    {
     "data": {
      "text/markdown": [
       "**Input 1:** Create a description of 100 words from the given paragraph '**The Acer Aspire 7 gaming laptop is perfect for the modern gamer. It comes with an AMD Ryzen 5 5500U Processor, 8GB DDR4 RAM, and 512GB SSD Storage. This ensures that you can run all the latest games at high settings and get great frame rates. The Acer Aspire also comes with a 15.6-inch FHD (1920×1080) Display, Windows 10 Home Operating System, and NVIDIA GTX 1650 4GB GDDR6 Graphics.This Acer Aspire 7 is a powerful gaming laptop that offers superior performance and great graphics. This laptop has a backlit keyboard that provides ease of use in low-light conditions. The Full HD Display on this device offers stunning visuals and clear details. It also features 10 hrs of battery backup that lets you stay productive even when you are away from an outlet.'**"
      ],
      "text/plain": [
       "<IPython.core.display.Markdown object>"
      ]
     },
     "metadata": {},
     "output_type": "display_data"
    },
    {
     "name": "stdout",
     "output_type": "stream",
     "text": [
      "The Acer Aspire 7 gaming laptop is perfect for the modern gamer. It comes with an AMD Ryzen 5 5500U Processor, 8GB DDR4 RAM, and 512GB SSD Storage. This ensures that you can run all the latest games at high settings and get great frame rates. The Acer Aspire also comes with a 15.6-inch FHD (1920×1080) Display, Windows 10 Home Operating System, and NVIDIA GTX 1650 4GB GDDR6 Graphics.\n",
      "\n"
     ]
    },
    {
     "data": {
      "text/markdown": [
       "**Input 2:** Create a description of 100 words from the given paragraph '**Find MacBook Pro price in India. Read MacBook Pro reviews before you buy any Laptops & PCs. Get free demo and avail discount now.'**"
      ],
      "text/plain": [
       "<IPython.core.display.Markdown object>"
      ]
     },
     "metadata": {},
     "output_type": "display_data"
    },
    {
     "name": "stdout",
     "output_type": "stream",
     "text": [
      "MacBook Pro is one of the most popular laptops among students and professionals. It is known for its sleek design and powerful performance. The price of MacBook Pro in India starts at Rs. 1,09,000. You can get a free demo of MacBook Pro at any Apple store in India. Avail discount on MacBook Pro now.\n",
      "\n"
     ]
    },
    {
     "data": {
      "text/markdown": [
       "**Input 3:** Create a description of 100 words from the given paragraph '**Hinterland Jumpsuit'**"
      ],
      "text/plain": [
       "<IPython.core.display.Markdown object>"
      ]
     },
     "metadata": {},
     "output_type": "display_data"
    },
    {
     "name": "stdout",
     "output_type": "stream",
     "text": [
      "This Hinterland Jumpsuit is perfect for your next outdoor adventure. Made from a lightweight, breathable fabric, it features a drawstring waist and cuffs for a comfortable, custom fit. The front zip closure makes it easy to get in and out of, and the two front pockets are perfect for storing your essentials. Whether you're hiking, camping, or just exploring the great outdoors, this jumpsuit will keep you comfortable and stylish all day long.\n",
      "\n"
     ]
    },
    {
     "data": {
      "text/markdown": [
       "**Input 4:** Create a description of 100 words from the given paragraph '**This Beautiful Dress Is A Perfect Fusion Of Casual Comfort And Trendy And A Must-have Item For Every Wardrobe. The Premium Quality Of This Soft Fabric Is Suitable For All Seasons. The Beautiful Floral Print Gives The Dress A Unique Look. Wear This Floral Printed Dress With Your Favorite Pair Of Heels, Sneakers, Or Flats. Product Color May Vary Slightly Due To Photographic Lighting Sources Or Your Monitor Settings.'**"
      ],
      "text/plain": [
       "<IPython.core.display.Markdown object>"
      ]
     },
     "metadata": {},
     "output_type": "display_data"
    },
    {
     "name": "stdout",
     "output_type": "stream",
     "text": [
      "This dress is a perfect fusion of casual comfort and trendy style. The premium quality of the soft fabric is suitable for all seasons. The beautiful floral print gives the dress a unique look. You can wear this dress with your favorite pair of heels, sneakers, or flats. The product color may vary slightly due to photographic lighting sources or your monitor settings.\n",
      "\n"
     ]
    },
    {
     "data": {
      "text/markdown": [
       "**Input 5:** Create a description of 100 words from the given paragraph '**Nike Air Max Excee Men's Shoe'**"
      ],
      "text/plain": [
       "<IPython.core.display.Markdown object>"
      ]
     },
     "metadata": {},
     "output_type": "display_data"
    },
    {
     "name": "stdout",
     "output_type": "stream",
     "text": [
      "The Nike Air Max Excee Men's Shoe is a comfortable and stylish shoe that is perfect for everyday wear. The shoe features a breathable mesh upper with a synthetic overlay for added support. The Max Air unit in the heel provides cushioning and comfort, while the rubber outsole provides traction and durability.\n",
      "\n"
     ]
    },
    {
     "data": {
      "text/markdown": [
       "**Input 6:** Create a description of 100 words from the given paragraph '**White Inspired by the Nike Air Max 90, the Nike Air Max Excee is a celebration of a classic through a new lens.'**"
      ],
      "text/plain": [
       "<IPython.core.display.Markdown object>"
      ]
     },
     "metadata": {},
     "output_type": "display_data"
    },
    {
     "name": "stdout",
     "output_type": "stream",
     "text": [
      "The Nike Air Max Excee is a new take on the classic Nike Air Max 90. The Excee celebrates the 90 with a new lens, bringing a fresh perspective to a classic sneaker. The Excee features a white upper with grey and red accents, paying homage to the Air Max 90's iconic colorway. The Excee also features a visible Air Max unit in the heel for cushioning, and a rubber outsole for traction and durability.\n",
      "\n"
     ]
    },
    {
     "data": {
      "text/markdown": [
       "**Input 7:** Create a description of 100 words from the given paragraph '**You need a couch that can sturdily and stylishly hold up to your daily life. With this easy-to-maintain Jianna Faux Leather Sofa, clean and comfortable is the name of the game. Covered in a durably plush saddle brown faux leather with warm tapered wood legs and under frame, this 3-seater sofa with square arms has an adaptable mid-century modern-meets-farmhouse sensibility with ultra-modern construction to last for years to come. Plus, since it's perfectly sized and easy to assemble and disassemble, moving it from room to room or house to house is a breeze. Assembly required.'**"
      ],
      "text/plain": [
       "<IPython.core.display.Markdown object>"
      ]
     },
     "metadata": {},
     "output_type": "display_data"
    },
    {
     "name": "stdout",
     "output_type": "stream",
     "text": [
      "This Jianna Faux Leather Sofa is perfect for anyone who wants a stylish and comfortable couch that is easy to maintain. The sofa is covered in a durably plush saddle brown faux leather with warm tapered wood legs and under frame. It has a 3-seater sofa with square arms and an adaptable mid-century modern-meets-farmhouse sensibility with ultra-modern construction to last for years to come. Plus, it is perfectly sized and easy to assemble and disassemble, making it easy to move from room to room or house to house. Assembly is required.\n"
     ]
    }
   ],
   "source": [
    "inputs = [\n",
    "    \"The Acer Aspire 7 gaming laptop is perfect for the modern gamer. It comes with an AMD Ryzen 5 5500U Processor, 8GB DDR4 RAM, and 512GB SSD Storage. This ensures that you can run all the latest games at high settings and get great frame rates. The Acer Aspire also comes with a 15.6-inch FHD (1920×1080) Display, Windows 10 Home Operating System, and NVIDIA GTX 1650 4GB GDDR6 Graphics.This Acer Aspire 7 is a powerful gaming laptop that offers superior performance and great graphics. This laptop has a backlit keyboard that provides ease of use in low-light conditions. The Full HD Display on this device offers stunning visuals and clear details. It also features 10 hrs of battery backup that lets you stay productive even when you are away from an outlet.\",    \n",
    "    \"Find MacBook Pro price in India. Read MacBook Pro reviews before you buy any Laptops & PCs. Get free demo and avail discount now.\",\n",
    "    \"Hinterland Jumpsuit\",\n",
    "    \"This Beautiful Dress Is A Perfect Fusion Of Casual Comfort And Trendy And A Must-have Item For Every Wardrobe. The Premium Quality Of This Soft Fabric Is Suitable For All Seasons. The Beautiful Floral Print Gives The Dress A Unique Look. Wear This Floral Printed Dress With Your Favorite Pair Of Heels, Sneakers, Or Flats. Product Color May Vary Slightly Due To Photographic Lighting Sources Or Your Monitor Settings.\",\n",
    "    \"Nike Air Max Excee Men's Shoe\",\n",
    "    \"White Inspired by the Nike Air Max 90, the Nike Air Max Excee is a celebration of a classic through a new lens.\" ,\n",
    "    \"You need a couch that can sturdily and stylishly hold up to your daily life. With this easy-to-maintain Jianna Faux Leather Sofa, clean and comfortable is the name of the game. Covered in a durably plush saddle brown faux leather with warm tapered wood legs and under frame, this 3-seater sofa with square arms has an adaptable mid-century modern-meets-farmhouse sensibility with ultra-modern construction to last for years to come. Plus, since it's perfectly sized and easy to assemble and disassemble, moving it from room to room or house to house is a breeze. Assembly required.\" ]\n",
    "max_words=100\n",
    "gpt_prompt = \"Create a description of \"+str(max_words)+\" words from the given paragraph\"\n",
    "\n",
    "for i in range(len(inputs)):\n",
    "    gprompt= gpt_prompt + \"'\"+inputs[i]+\"'.\"\n",
    "    \n",
    "    response = openai.Completion.create( \n",
    "        engine=\"text-davinci-002\", \n",
    "        prompt=gprompt,  \n",
    "        temperature=0, \n",
    "        max_tokens=500, \n",
    "        top_p=1.00)\n",
    "\n",
    "    print()\n",
    "    display(Markdown('**Input '+ str(i+1) +':** ' + gpt_prompt + ' \\'**'+ inputs[i] +'\\'**'))\n",
    "    print(response['choices'][0]['text'].strip())"
   ]
  },
  {
   "cell_type": "markdown",
   "id": "834ef1d9",
   "metadata": {
    "tags": []
   },
   "source": [
    "## Keyword identification\n",
    "Using GPT3 model to identify the keywords from product description."
   ]
  },
  {
   "cell_type": "code",
   "execution_count": 43,
   "id": "da388d1d",
   "metadata": {
    "scrolled": true,
    "tags": []
   },
   "outputs": [
    {
     "name": "stdout",
     "output_type": "stream",
     "text": [
      "\n"
     ]
    },
    {
     "data": {
      "text/markdown": [
       "\n",
       "**Input 1:** **Empyre Venom Black T-Shirt - One Size - Black Graphic T-shirts - Men's Clothing at Zumiez, Rock a one-of-a-kind design from Empyre in the Venom black t-shirt. This cotton tee features a screen-printed rose graphic at the left chest along with a white Empyre logo. The back displays a large bouquet of flowers with a snake intertwined throughout and text that reads \"Empyre; Everything has a price.'**"
      ],
      "text/plain": [
       "<IPython.core.display.Markdown object>"
      ]
     },
     "metadata": {},
     "output_type": "display_data"
    },
    {
     "name": "stdout",
     "output_type": "stream",
     "text": [
      "T-shirt|Empyre|Venom|Black|One Size|Graphic T-shirt|Men's Clothing\n"
     ]
    },
    {
     "data": {
      "text/markdown": [
       "\n",
       "**Input 2:** **This Beautiful Dress Is A Perfect Fusion Of Casual Comfort And Trendy And A Must-have Item For Every Wardrobe. The Premium Quality Of This Soft Fabric Is Suitable For All Seasons. The Beautiful Floral Print Gives The Dress A Unique Look. Wear This Floral Printed Dress With Your Favorite Pair Of Heels, Sneakers, Or Flats. Product Color May Vary Slightly Due To Photographic Lighting Sources Or Your Monitor Settings.'**"
      ],
      "text/plain": [
       "<IPython.core.display.Markdown object>"
      ]
     },
     "metadata": {},
     "output_type": "display_data"
    },
    {
     "name": "stdout",
     "output_type": "stream",
     "text": [
      "Dress|Floral|Printed|Casual|Comfort|Trendy\n"
     ]
    },
    {
     "data": {
      "text/markdown": [
       "\n",
       "**Input 3:** **TaylorMade RBZ Speedlite Steel 13 Piece Golf Set, Joining Team TaylorMade has never been easier. Packed with proven technologies, this complete set is crafted for golfers of all skill levels to provide easy launch, explosive distance and max forgiveness in one lightweight package. The set includes driver, 3 & 5 wood, 4 & 5 rescue, 6-9 iron, pitching wedge, sand wedge and a putter. '**"
      ],
      "text/plain": [
       "<IPython.core.display.Markdown object>"
      ]
     },
     "metadata": {},
     "output_type": "display_data"
    },
    {
     "name": "stdout",
     "output_type": "stream",
     "text": [
      "Golf Set|Steel|13 Piece|Driver|3 Wood|5 Wood|4 Rescue|5 Rescue|6 Iron|9 Iron|Pitching Wedge|Sand Wedge|Putter\n"
     ]
    }
   ],
   "source": [
    "inputs = [\n",
    "    '''Empyre Venom Black T-Shirt - One Size - Black Graphic T-shirts - Men's Clothing at Zumiez, Rock a one-of-a-kind design from Empyre in the Venom black t-shirt. This cotton tee features a screen-printed rose graphic at the left chest along with a white Empyre logo. The back displays a large bouquet of flowers with a snake intertwined throughout and text that reads \"Empyre; Everything has a price.''',\n",
    "    '''This Beautiful Dress Is A Perfect Fusion Of Casual Comfort And Trendy And A Must-have Item For Every Wardrobe. The Premium Quality Of This Soft Fabric Is Suitable For All Seasons. The Beautiful Floral Print Gives The Dress A Unique Look. Wear This Floral Printed Dress With Your Favorite Pair Of Heels, Sneakers, Or Flats. Product Color May Vary Slightly Due To Photographic Lighting Sources Or Your Monitor Settings.''',\n",
    "    '''TaylorMade RBZ Speedlite Steel 13 Piece Golf Set, Joining Team TaylorMade has never been easier. Packed with proven technologies, this complete set is crafted for golfers of all skill levels to provide easy launch, explosive distance and max forgiveness in one lightweight package. The set includes driver, 3 & 5 wood, 4 & 5 rescue, 6-9 iron, pitching wedge, sand wedge and a putter. '''\n",
    "]\n",
    "\n",
    "# read the pattern from file\n",
    "f = open(\"keywords.txt\", \"r\")\n",
    "key=f.read()\n",
    "f.close()\n",
    "print()\n",
    "\n",
    "for i in range(len(inputs)):\n",
    "    gprompt=key+inputs[i]+\"\\nKeywords =\"\n",
    "    openai.api_key=api_key\n",
    "\n",
    "    response = openai.Completion.create( \n",
    "        engine=\"text-davinci-002\", \n",
    "        prompt=gprompt,  \n",
    "        temperature=0, stop=['\\n'],\n",
    "        max_tokens=500, \n",
    "        top_p=1.00)\n",
    "    display(Markdown('\\n**Input '+ str(i+1) +':** **'+ inputs[i] +'\\'**'))\n",
    "    print(response['choices'][0]['text'].strip())"
   ]
  },
  {
   "cell_type": "markdown",
   "id": "f6d8a2aa",
   "metadata": {},
   "source": [
    "## Product Summary\n",
    "Using google search results to generate product summary.\n",
    "Loop through top 3 results and extract "
   ]
  },
  {
   "cell_type": "code",
   "execution_count": 44,
   "id": "f01fefcb",
   "metadata": {
    "scrolled": true,
    "tags": []
   },
   "outputs": [
    {
     "data": {
      "text/plain": [
       "<Future at 0x206ebf2fdf0 state=pending>"
      ]
     },
     "execution_count": 44,
     "metadata": {},
     "output_type": "execute_result"
    }
   ],
   "source": [
    "import asyncio,json\n",
    "from pyppeteer import launch\n",
    "from bs4 import BeautifulSoup\n",
    "\n",
    "async def main():\n",
    "    browser = await launch(Headless = True,Args = [\"--no-sandbox\",\"--disable-dev-shm-usage\",\"--disable-gpu\",\"--disable-setuid-sandbox\",\"--no-first-run\",\"--no-zygote\",\"--single-process\"])\n",
    "    page = await browser.newPage()\n",
    "    await page.setViewport({\"width\": 1920,\"height\": 1080})\n",
    "    await page.goto('https://www.google.com/search?q=Nike+Air+Max+Excee+Men%27s+Shoe')\n",
    "    \n",
    "    titles = await page.querySelectorAll('.VwiC3b,.yXK7lf,.MUxGbd,.yDYNvb,.lyLwlc')\n",
    "    links = await page.querySelectorAll('.fG8Fp,.uo4vr')\n",
    "   \n",
    "    productLinks=[]\n",
    "    price=[]\n",
    "    print('Scrapping search results\\n------------------------')\n",
    "    for i in range(3):\n",
    "        title1 = await page.evaluate('(element) => element.textContent', titles[i])\n",
    "        print(\"Summary \"+str(i+1)+\": \",title1)\n",
    "        links1 = await page.evaluate('(element) => element.textContent', links[i])\n",
    "        print(\"Price & Review \"+str(i+1)+\": \",links1, \"\\n\")\n",
    "        price.append(links1)\n",
    "        productLinks.append(title1+links1)\n",
    "  \n",
    "    await browser.close()\n",
    "\n",
    "    \n",
    "    gprompt=\"Create a description of 400 words from the given list of paragraphs ,\"+str(productLinks)\n",
    "    \n",
    "    #print(gprompt)\n",
    "    \n",
    "    response = openai.Completion.create( \n",
    "            engine=\"text-davinci-002\", \n",
    "            prompt=gprompt,  \n",
    "            temperature=0, \n",
    "            max_tokens=500, \n",
    "            top_p=1.00)\n",
    "\n",
    "    \n",
    "    gprompt=\"Find an average prize and rating from the sentences list, The list of sentences are ,\"+str(price)\n",
    "    \n",
    "    #print(gprompt)\n",
    "    \n",
    "    response1 = openai.Completion.create( \n",
    "            engine=\"text-davinci-002\", \n",
    "            prompt=gprompt,  \n",
    "            temperature=0, \n",
    "            max_tokens=50, \n",
    "            top_p=1.00) \n",
    "\n",
    "    ##    display(Markdown('**'+ gprompt +'**'))\n",
    "    print('Product Summary\\n----------------')\n",
    "    print(response['choices'][0]['text'].strip()+'\\n')\n",
    "    print('Price & Review Info\\n--------------------')\n",
    "    print(response1['choices'][0]['text'].strip()+'\\n')\n",
    "    \n",
    "loop = asyncio.get_event_loop()\n",
    "asyncio.run_coroutine_threadsafe(main(), loop)\n"
   ]
  },
  {
   "cell_type": "markdown",
   "id": "6e542590",
   "metadata": {},
   "source": [
    "## Highlight words from description\n",
    "Get the list of insight keys related to buying from the description"
   ]
  },
  {
   "cell_type": "code",
   "execution_count": 47,
   "id": "11a750c8",
   "metadata": {},
   "outputs": [
    {
     "data": {
      "text/markdown": [
       "**Input 1**: Lifestyle Solutions Mavrick Sofa with Rolled Arms, Grey Dark Grey microfiber The MAVRICK Collection is a lovely set which features curved or rolled arm sofa, loveseat, and chair which offer the perfect place for family, friends, or casual acquaintances to rest, relax, and recharge. The wooden frame offers only the finest protection from all manner of bouncing or jostling that furniture may experience especially with little ones around. Minimal assembly is required, but all is worth it with the comfort and fun to be had by all enjoying this lovely set. Features: Color: Grey. Dimensions: 33.86\" H x 78.75\" W x 31.50\" D. Product Weight: 83 lbs. Weight Capacity: 792 lbs. Seat Height: 18.5\". Seat Cushion Thickness: 7.87\"."
      ],
      "text/plain": [
       "<IPython.core.display.Markdown object>"
      ]
     },
     "metadata": {},
     "output_type": "display_data"
    },
    {
     "name": "stdout",
     "output_type": "stream",
     "text": [
      "1. Lifestyle Solutions Mavrick Sofa \n",
      "2. Rolled Arms \n",
      "3. Grey Dark Grey microfiber \n",
      "4. The MAVRICK Collection \n",
      "5. Minimal assembly is required\n",
      "\n"
     ]
    },
    {
     "data": {
      "text/markdown": [
       "**Input 2**: Backlit Keyboard Work or play, the Acer Aspire 7 Gaming Laptop is sure to be your ideal computing partner as it comes with a host of features. Boasting a large 39.62 cm (15.6) Full HD LED IPS display, this gaming laptop ensures that every visual, be it while playing games or watching a video, is crisp and vibrant. Moreover, it comes with the combination of an AMD Ryzen 5500U processor and NVIDIA GeForce GTX 1650 GPU, making it a powerful and reliable system for everyday use"
      ],
      "text/plain": [
       "<IPython.core.display.Markdown object>"
      ]
     },
     "metadata": {},
     "output_type": "display_data"
    },
    {
     "name": "stdout",
     "output_type": "stream",
     "text": [
      "1. Acer Aspire 7 Gaming Laptop\n",
      "2. AMD Ryzen 5500U processor\n",
      "3. NVIDIA GeForce GTX 1650 GPU\n",
      "4. Large 39.62 cm (15.6) Full HD LED IPS display\n",
      "\n"
     ]
    },
    {
     "data": {
      "text/markdown": [
       "**Input 3**: Pattern Is Solid. Style Code Is Hlss000438. Reversible Is No. Sales Package Is Sweat Shirt. Occasion Is Casual. Hooded Is Yes. Color Is Black. Fabric Care Is Gentle Machine Wash. Neck Is Hooded Neck. Sleeve Is Full Sleeve. Fabric Is Polyester. Suitable For Is Western Wear."
      ],
      "text/plain": [
       "<IPython.core.display.Markdown object>"
      ]
     },
     "metadata": {},
     "output_type": "display_data"
    },
    {
     "name": "stdout",
     "output_type": "stream",
     "text": [
      "1. Sweat Shirt \n",
      "2. Black \n",
      "3. Polyester \n",
      "4. Gentle Machine Wash \n",
      "5. Full Sleeve \n",
      "6. Hooded Neck\n",
      "\n"
     ]
    }
   ],
   "source": [
    "inputs = [\n",
    "    '''Lifestyle Solutions Mavrick Sofa with Rolled Arms, Grey Dark Grey microfiber The MAVRICK Collection is a lovely set which features curved or rolled arm sofa, loveseat, and chair which offer the perfect place for family, friends, or casual acquaintances to rest, relax, and recharge. The wooden frame offers only the finest protection from all manner of bouncing or jostling that furniture may experience especially with little ones around. Minimal assembly is required, but all is worth it with the comfort and fun to be had by all enjoying this lovely set. Features: Color: Grey. Dimensions: 33.86\" H x 78.75\" W x 31.50\" D. Product Weight: 83 lbs. Weight Capacity: 792 lbs. Seat Height: 18.5\". Seat Cushion Thickness: 7.87\".''',\n",
    "    '''Backlit Keyboard Work or play, the Acer Aspire 7 Gaming Laptop is sure to be your ideal computing partner as it comes with a host of features. Boasting a large 39.62 cm (15.6) Full HD LED IPS display, this gaming laptop ensures that every visual, be it while playing games or watching a video, is crisp and vibrant. Moreover, it comes with the combination of an AMD Ryzen 5500U processor and NVIDIA GeForce GTX 1650 GPU, making it a powerful and reliable system for everyday use''',\n",
    "    '''Pattern Is Solid. Style Code Is Hlss000438. Reversible Is No. Sales Package Is Sweat Shirt. Occasion Is Casual. Hooded Is Yes. Color Is Black. Fabric Care Is Gentle Machine Wash. Neck Is Hooded Neck. Sleeve Is Full Sleeve. Fabric Is Polyester. Suitable For Is Western Wear.'''\n",
    "    ]\n",
    "\n",
    "for i in range(len(inputs)):\n",
    "    gprompt='In this product description, number the most significant keywords for buying, and the product description is \"'+inputs[i]+'\"'\n",
    "\n",
    "    response = openai.Completion.create( \n",
    "        engine=\"text-davinci-002\", \n",
    "        prompt=gprompt,  \n",
    "        temperature=0.7, \n",
    "        max_tokens=400, \n",
    "        top_p=1.00)\n",
    "\n",
    "    display(Markdown('**Input '+ str(i+1)+'**: ' + inputs[i]))\n",
    "    print(response['choices'][0]['text'].strip()+'\\n')"
   ]
  }
 ],
 "metadata": {
  "interpreter": {
   "hash": "fa0b719637b7c144241ecdbd6aeea6d475de3c62293647133f079c86366efb2f"
  },
  "kernelspec": {
   "display_name": "Python 3.10.6 64-bit",
   "language": "python",
   "name": "python3"
  },
  "language_info": {
   "codemirror_mode": {
    "name": "ipython",
    "version": 3
   },
   "file_extension": ".py",
   "mimetype": "text/x-python",
   "name": "python",
   "nbconvert_exporter": "python",
   "pygments_lexer": "ipython3",
   "version": "3.10.6"
  },
  "vscode": {
   "interpreter": {
    "hash": "81794d4967e6c3204c66dcd87b604927b115b27c00565d3d43f05ba2f3a2cb0d"
   }
  }
 },
 "nbformat": 4,
 "nbformat_minor": 5
}
