{
 "cells": [
  {
   "cell_type": "markdown",
   "id": "ad7af1e5",
   "metadata": {},
   "source": [
    "# Product Envision - Intelligence\n",
    "Using GPT3 Models creating a auto text for following usecases\n",
    "- Sentence Reframe for Title\n",
    "- Description creation/Expantion/shrink\n",
    "- Keyword identification\n",
    "- Web scrapping"
   ]
  },
  {
   "cell_type": "markdown",
   "id": "a11c8830-ac10-4309-ac9d-5bbe1965b33e",
   "metadata": {},
   "source": [
    "## Sentence Reframe for Title\n",
    "\n"
   ]
  },
  {
   "cell_type": "code",
   "execution_count": 3,
   "id": "649266a0-d33b-42a3-892f-9208ae3c1b9c",
   "metadata": {},
   "outputs": [
    {
     "data": {
      "text/markdown": [
       "**create a four alterative interactive sentences with same meaning for 'I need a time tomorrow'.**"
      ],
      "text/plain": [
       "<IPython.core.display.Markdown object>"
      ]
     },
     "metadata": {},
     "output_type": "display_data"
    },
    {
     "name": "stdout",
     "output_type": "stream",
     "text": [
      "Can I schedule a time with you for tomorrow?\n",
      "I would like to schedule a time with you for tomorrow.\n",
      "When would be a good time for us to meet tomorrow?\n",
      "What is your availability like tomorrow?\n",
      "\n"
     ]
    },
    {
     "data": {
      "text/markdown": [
       "**create a four alterative interactive sentences with same meaning for 'I wont a leave here'.**"
      ],
      "text/plain": [
       "<IPython.core.display.Markdown object>"
      ]
     },
     "metadata": {},
     "output_type": "display_data"
    },
    {
     "name": "stdout",
     "output_type": "stream",
     "text": [
      "I won't leave here.\n",
      "I will not leave here.\n",
      "I shall not leave here.\n",
      "I'm not leaving here.\n",
      "\n"
     ]
    }
   ],
   "source": [
    "import openai\n",
    "from IPython.display import display, Markdown\n",
    "\n",
    "inputs = [ 'I need a time tomorrow' ,'I wont a leave here' ]\n",
    "\n",
    "for i in range(len(inputs)):\n",
    "    gprompt=\"create a four alterative interactive sentences with same meaning for '\"+inputs[i]+\"'.\"\n",
    "    openai.api_key=\"sk-***********************************************\"\n",
    "\n",
    "    response = openai.Completion.create( \n",
    "        engine=\"text-davinci-002\", \n",
    "        prompt=gprompt,  \n",
    "        temperature=0, \n",
    "        max_tokens=256, \n",
    "        top_p=1.00)\n",
    "\n",
    "    display(Markdown('**'+ gprompt +'**'))\n",
    "    print(response['choices'][0]['text'].strip()+'\\n')"
   ]
  },
  {
   "cell_type": "markdown",
   "id": "298de8ca",
   "metadata": {},
   "source": [
    "## Description     - Fixed limit (400)\n",
    "Creating a discription for fixied word length"
   ]
  },
  {
   "cell_type": "code",
   "execution_count": 14,
   "id": "bd64ed93",
   "metadata": {},
   "outputs": [
    {
     "data": {
      "text/markdown": [
       "**create a description with equels 100 words from the given paragraph  'Nike Air Max Excee Men's Shoe'.**"
      ],
      "text/plain": [
       "<IPython.core.display.Markdown object>"
      ]
     },
     "metadata": {},
     "output_type": "display_data"
    },
    {
     "name": "stdout",
     "output_type": "stream",
     "text": [
      "The Nike Air Max Excee Men's Shoe is a comfortable and stylish shoe that is perfect for everyday wear. The shoe features a breathable mesh upper with a synthetic overlay for added support. The Max Air unit in the heel provides cushioning and comfort, while the rubber outsole provides traction and durability.\n",
      "\n"
     ]
    },
    {
     "data": {
      "text/markdown": [
       "**create a description with equels 100 words from the given paragraph  ' \"White Inspired by the Nike Air Max 90, the Nike Air Max Excee is a celebration of a classic through a new lens. '.**"
      ],
      "text/plain": [
       "<IPython.core.display.Markdown object>"
      ]
     },
     "metadata": {},
     "output_type": "display_data"
    },
    {
     "name": "stdout",
     "output_type": "stream",
     "text": [
      "The Nike Air Max Excee is a modern take on the classic Nike Air Max 90. The shoe features a clean white upper with a grey and white speckled midsole. The Nike Air Max Excee is a perfect shoe for any sneakerhead or casual wearer alike.\n",
      "\n"
     ]
    },
    {
     "data": {
      "text/markdown": [
       "**create a description with equels 100 words from the given paragraph  'you need a couch that can sturdily and stylishly hold up to your daily life. With this easy-to-maintain Jianna Faux Leather Sofa, clean and comfortable is the name of the game. Covered in a durably plush saddle brown faux leather with warm tapered wood legs and under frame, this 3-seater sofa with square arms has an adaptable mid-century modern-meets-farmhouse sensibility with ultra-modern construction to last for years to come. Plus, since it's perfectly sized and easy to assemble and disassemble, moving it from room to room or house to house is a breeze. Assembly required.'.**"
      ],
      "text/plain": [
       "<IPython.core.display.Markdown object>"
      ]
     },
     "metadata": {},
     "output_type": "display_data"
    },
    {
     "name": "stdout",
     "output_type": "stream",
     "text": [
      "This Jianna Faux Leather Sofa is perfect for anyone who wants a stylish and comfortable couch that is easy to maintain. The sofa is covered in a durably plush saddle brown faux leather with warm tapered wood legs and under frame. It has a square arm design with a mid-century modern-meets-farmhouse sensibility. The sofa is easy to assemble and disassemble, making it perfect for moving from room to room or house to house.\n",
      "\n"
     ]
    }
   ],
   "source": [
    "import openai\n",
    "from IPython.display import display, Markdown\n",
    "\n",
    "inputs = [ \"Nike Air Max Excee Men's Shoe\",\"\"\" \"White Inspired by the Nike Air Max 90, the Nike Air Max Excee is a celebration of a classic through a new lens. \"\"\" ,\n",
    "\"\"\"you need a couch that can sturdily and stylishly hold up to your daily life. With this easy-to-maintain Jianna Faux Leather Sofa, clean and comfortable is the name of the game. Covered in a durably plush saddle brown faux leather with warm tapered wood legs and under frame, this 3-seater sofa with square arms has an adaptable mid-century modern-meets-farmhouse sensibility with ultra-modern construction to last for years to come. Plus, since it's perfectly sized and easy to assemble and disassemble, moving it from room to room or house to house is a breeze. Assembly required.\"\"\" ]\n",
    "max_words=100\n",
    "for i in range(len(inputs)):\n",
    "    gprompt=\"create a description with equels \"+str(max_words)+\" words from the given paragraph  '\"+inputs[i]+\"'.\"\n",
    "    openai.api_key=\"sk-********************************************\"\n",
    "\n",
    "    response = openai.Completion.create( \n",
    "        engine=\"text-davinci-002\", \n",
    "        prompt=gprompt,  \n",
    "        temperature=0, \n",
    "        max_tokens=500, \n",
    "        top_p=1.00)\n",
    "\n",
    "    display(Markdown('**'+ gprompt +'**'))\n",
    "    print(response['choices'][0]['text'].strip()+'\\n')\n",
    "\n"
   ]
  },
  {
   "cell_type": "markdown",
   "id": "834ef1d9",
   "metadata": {
    "tags": []
   },
   "source": [
    "## Keyword identification\n",
    "Using GPT3 model identified the keywords from product description."
   ]
  },
  {
   "cell_type": "code",
   "execution_count": 17,
   "id": "da388d1d",
   "metadata": {
    "scrolled": true,
    "tags": []
   },
   "outputs": [
    {
     "data": {
      "text/markdown": [
       "**Nike Air Max Excee Men's Shoe - White Inspired by the Nike Air Max 90, the Nike Air Max Excee is a celebration of a classic through a new lens. Elongated lines and distorted proportions on the upper bring an icon into a new, modern space. Visible Air Visible Air unit is visible through 3 windows for an updated look. Lightweight Comfort A foam midsole and outsole with rubber pods provide lightweight comfort and durability. Modern Look Elongated design lines honour the Air Max 90 while modernising it in a provocative way.\n",
       "Keywords = Mens Shoe| Nike Air Max 90| lightweight| comfort| durability| foam midsole| outsole| rubber pods\n",
       "\n",
       " Lifestyle Solutions Mavrick Sofa with Rolled Arms, Grey Dark Grey microfiber The MAVRICK Collection is a lovely set which features curved or rolled arm sofa, loveseat, and chair which offer the perfect place for family, friends, or casual acquaintances to rest, relax, and recharge. The wooden frame offers only the finest protection from all manner of bouncing or jostling that furniture may experience especially with little ones around. Minimal assembly is required, but all is worth it with the comfort and fun to be had by all enjoying this lovely set. Features: Color: Grey. Dimensions: 33.86\" H x 78.75\" W x 31.50\" D. Product Weight: 83 lbs. Weight Capacity: 792 lbs. Seat Height: 18.5\". Seat Cushion Thickness: 7.87\".\n",
       "Keywords =**"
      ],
      "text/plain": [
       "<IPython.core.display.Markdown object>"
      ]
     },
     "metadata": {},
     "output_type": "display_data"
    },
    {
     "name": "stdout",
     "output_type": "stream",
     "text": [
      "Sofa| Loveseat| Chair| Grey| Microfiber| Minimal Assembly\n",
      "\n"
     ]
    }
   ],
   "source": [
    "import openai\n",
    "from IPython.display import display, Markdown\n",
    "\n",
    "inputs = ['''Lifestyle Solutions Mavrick Sofa with Rolled Arms, Grey Dark Grey microfiber The MAVRICK Collection is a lovely set which features curved or rolled arm sofa, loveseat, and chair which offer the perfect place for family, friends, or casual acquaintances to rest, relax, and recharge. The wooden frame offers only the finest protection from all manner of bouncing or jostling that furniture may experience especially with little ones around. Minimal assembly is required, but all is worth it with the comfort and fun to be had by all enjoying this lovely set. Features: Color: Grey. Dimensions: 33.86\" H x 78.75\" W x 31.50\" D. Product Weight: 83 lbs. Weight Capacity: 792 lbs. Seat Height: 18.5\". Seat Cushion Thickness: 7.87\".''']\n",
    "max_words=100\n",
    "for i in range(len(inputs)):\n",
    "    gprompt=\"\"\"Nike Air Max Excee Men's Shoe - White Inspired by the Nike Air Max 90, the Nike Air Max Excee is a celebration of a classic through a new lens. Elongated lines and distorted proportions on the upper bring an icon into a new, modern space. Visible Air Visible Air unit is visible through 3 windows for an updated look. Lightweight Comfort A foam midsole and outsole with rubber pods provide lightweight comfort and durability. Modern Look Elongated design lines honour the Air Max 90 while modernising it in a provocative way.\n",
    "Keywords = Mens Shoe| Nike Air Max 90| lightweight| comfort| durability| foam midsole| outsole| rubber pods\n",
    "\n",
    " \"\"\"+inputs[i]+\"\\nKeywords =\"\n",
    "    openai.api_key=\"sk-***********************************************\"\n",
    "\n",
    "    response = openai.Completion.create( \n",
    "        engine=\"text-davinci-002\", \n",
    "        prompt=gprompt,  \n",
    "        temperature=0, stop=['\\n'],\n",
    "        max_tokens=500, \n",
    "        top_p=1.00)\n",
    "\n",
    "    display(Markdown('**'+ gprompt +'**'))\n",
    "    print(response['choices'][0]['text'].strip()+'\\n')\n",
    "    \n"
   ]
  },
  {
   "cell_type": "markdown",
   "id": "f6d8a2aa",
   "metadata": {},
   "source": [
    "## Web scrapping\n",
    "Scraping Product info from google\n"
   ]
  },
  {
   "cell_type": "code",
   "execution_count": 31,
   "id": "f01fefcb",
   "metadata": {
    "scrolled": true,
    "tags": []
   },
   "outputs": [
    {
     "data": {
      "text/plain": [
       "<Future at 0x231f7f8ac70 state=pending>"
      ]
     },
     "execution_count": 31,
     "metadata": {},
     "output_type": "execute_result"
    },
    {
     "name": "stdout",
     "output_type": "stream",
     "text": [
      "The Nike Air Max Excee is a modern take on the classic Air Max 90 design. Featuring elongated lines and distorted proportions, the Excee is a bold new take on a classic sneaker. With a 4.5 star rating on 164 reviews, the Excee is a popular choice for Nike fans looking for a new twist on a classic design. Prices for the Excee range from ₹7,597.00 to ₹7,995.00.\n",
      "\n"
     ]
    }
   ],
   "source": [
    "import asyncio,json\n",
    "import openai\n",
    "from pyppeteer import launch\n",
    "from bs4 import BeautifulSoup\n",
    "openai.api_key=\"sk-*****************************************\"\n",
    "async def main():\n",
    "    browser = await launch(Headless = True,Args = [\"--no-sandbox\",\"--disable-dev-shm-usage\",\"--disable-gpu\",\"--disable-setuid-sandbox\",\"--no-first-run\",\"--no-zygote\",\"--single-process\"])\n",
    "    page = await browser.newPage()\n",
    "    await page.setViewport({\"width\": 1920,\"height\": 1080})\n",
    "    await page.goto('https://www.google.com/search?q=Nike+Air+Max+Excee+Men%27s+Shoe')\n",
    "    \n",
    "    titles = await page.querySelectorAll('.VwiC3b,.yXK7lf,.MUxGbd,.yDYNvb,.lyLwlc')\n",
    "    links = await page.querySelectorAll('.fG8Fp,.uo4vr')\n",
    "   \n",
    "    productlinks=[]\n",
    "    for i in range(3):\n",
    "        title1 = await page.evaluate('(element) => element.textContent', titles[i])\n",
    "        #print(\"title1= \",title1)\n",
    "        links1 = await page.evaluate('(element) => element.textContent', links[i])\n",
    "        #print(\"title1= \",links1)\n",
    "    \n",
    "        productlinks.append(title1+links1)\n",
    "  \n",
    "    await browser.close()\n",
    "    gprompt=\"create a description with equals 400 words from the given list of paragraphs and write a average rating and prices ,\"+str(productlinks)\n",
    "    \n",
    "    #print(gprompt)\n",
    "    \n",
    "\n",
    "    \n",
    "    response = openai.Completion.create( \n",
    "            engine=\"text-davinci-002\", \n",
    "            prompt=gprompt,  \n",
    "            temperature=0, \n",
    "            max_tokens=500, \n",
    "            top_p=1.00)\n",
    "    \n",
    "\n",
    "   # display(Markdown('**'+ gprompt +'**'))\n",
    "    print(response['choices'][0]['text'].strip()+'\\n')\n",
    "loop = asyncio.get_event_loop()\n",
    "asyncio.run_coroutine_threadsafe(main(), loop)\n",
    "\n"
   ]
  },
  {
   "cell_type": "markdown",
   "id": "6e542590",
   "metadata": {},
   "source": [
    "## Insights collected from description\n",
    "get the list of insights from the related to buying"
   ]
  },
  {
   "cell_type": "code",
   "execution_count": 48,
   "id": "11a750c8",
   "metadata": {},
   "outputs": [
    {
     "data": {
      "text/markdown": [
       "**Color: Grey\n",
       "Dimensions: 33.86\" H x 78.75\" W x 31.50\" D\n",
       "Product Weight: 83 lbs\n",
       "Weight Capacity: 792 lbs\n",
       "Seat Height: 18.5\"\n",
       "S\n",
       "**"
      ],
      "text/plain": [
       "<IPython.core.display.Markdown object>"
      ]
     },
     "metadata": {},
     "output_type": "display_data"
    }
   ],
   "source": [
    "import openai\n",
    "from IPython.display import display, Markdown\n",
    "\n",
    "inputs = ['''Lifestyle Solutions Mavrick Sofa with Rolled Arms, Grey Dark Grey microfiber The MAVRICK Collection is a lovely set which features curved or rolled arm sofa, loveseat, and chair which offer the perfect place for family, friends, or casual acquaintances to rest, relax, and recharge. The wooden frame offers only the finest protection from all manner of bouncing or jostling that furniture may experience especially with little ones around. Minimal assembly is required, but all is worth it with the comfort and fun to be had by all enjoying this lovely set. Features: Color: Grey. Dimensions: 33.86\" H x 78.75\" W x 31.50\" D. Product Weight: 83 lbs. Weight Capacity: 792 lbs. Seat Height: 18.5\". Seat Cushion Thickness: 7.87\".''']\n",
    "max_words=100\n",
    "for i in range(len(inputs)):\n",
    "    gprompt='List the important key values for buying in this product description, product description is \"'+inputs[i]+'\"'\n",
    "    openai.api_key=\"sk-*************************************\"\n",
    "\n",
    "    response = openai.Completion.create( \n",
    "        engine=\"text-davinci-002\", \n",
    "        prompt=gprompt,  \n",
    "        temperature=0.7, \n",
    "        max_tokens=50, \n",
    "        top_p=1.00)\n",
    "\n",
    "    display(Markdown('**'+ response['choices'][0]['text'].strip()+'\\n' +'**'))\n",
    "   # print(response['choices'][0]['text'].strip()+'\\n')"
   ]
  }
 ],
 "metadata": {
  "kernelspec": {
   "display_name": "Python 3.9.12 64-bit",
   "language": "python",
   "name": "python3"
  },
  "language_info": {
   "codemirror_mode": {
    "name": "ipython",
    "version": 3
   },
   "file_extension": ".py",
   "mimetype": "text/x-python",
   "name": "python",
   "nbconvert_exporter": "python",
   "pygments_lexer": "ipython3",
   "version": "3.9.12"
  },
  "vscode": {
   "interpreter": {
    "hash": "81794d4967e6c3204c66dcd87b604927b115b27c00565d3d43f05ba2f3a2cb0d"
   }
  }
 },
 "nbformat": 4,
 "nbformat_minor": 5
}
