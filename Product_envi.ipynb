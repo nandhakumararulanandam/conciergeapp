{
 "cells": [
  {
   "cell_type": "markdown",
   "id": "ad7af1e5",
   "metadata": {},
   "source": [
    "# Product Envision - Intelligence\n",
    "Using GPT3 Models creating a auto text for following use cases\n",
    "- [Reframe sentence for Title](#reframe-sentence-for-title)\n",
    "- [Description creation/expansion/shrink](#build-description)\n",
    "- [Keyword identification](#keyword-identification)\n",
    "- [Product summary - Web scrapping](#product-summary)\n",
    "- [Highlight words from Description](#highlight-words-from-description)\n",
    "- [Attribute Extraction](#extracting-key-attributes-for-a-product)"
   ]
  },
  {
   "cell_type": "markdown",
   "id": "6a31f925",
   "metadata": {},
   "source": [
    "### Steps to run before this notebook\n",
    "- Paste [OpenAPI developer key](https://beta.openai.com/account/api-keys) in the `api.key file` (_should be on the same directory_)\n",
    "- Make sure to have the `keywords.txt` file in the same directory of this notebook file (_used for Keyword identification_)"
   ]
  },
  {
   "cell_type": "markdown",
   "id": "a11c8830-ac10-4309-ac9d-5bbe1965b33e",
   "metadata": {},
   "source": [
    "## Reframe sentence for Title\n",
    "\n"
   ]
  },
  {
   "cell_type": "code",
   "execution_count": null,
   "id": "649266a0-d33b-42a3-892f-9208ae3c1b9c",
   "metadata": {},
   "outputs": [],
   "source": [
    "import openai\n",
    "from IPython.display import display, Markdown\n",
    "\n",
    "# read the api from file\n",
    "f = open(\"api.key\", \"r\")\n",
    "api_key=f.read()\n",
    "f.close()\n",
    "\n",
    "openai.api_key=api_key\n",
    "\n",
    "inputs = [ \"I need time tomorrow\",\n",
    "\"I want to take a leave\",\n",
    "\"The search is over for a laptop that delivers the performance and battery life you’ve been looking for, all in one sleek design.\",\"I was very skeptical about switching from my Motorola to a Samsung because Samsung's just aren't as durable.\",\n",
    "\"I will say the camera is fantastic\",\n",
    "\"teen swing characteristics to produce maximum distance and a rewarding experience for beginners.\"]\n",
    "gpt_prompt = \"Create four alterative interactive sentences with the same meaning for '\"\n",
    "\n",
    "for i in range(len(inputs)):\n",
    "    gprompt= gpt_prompt + inputs[i] + \"'.\"\n",
    "    \n",
    "    response = openai.Completion.create( \n",
    "        engine=\"text-davinci-002\", \n",
    "        prompt=gprompt,  \n",
    "        temperature=0, \n",
    "        max_tokens=256, \n",
    "        top_p=1.00)\n",
    "\n",
    "    display(Markdown(gpt_prompt + '**'+ inputs[i] +'**\\''))\n",
    "    print(response['choices'][0]['text'].strip()+'\\n')"
   ]
  },
  {
   "cell_type": "markdown",
   "id": "298de8ca",
   "metadata": {},
   "source": [
    "## Build Description\n",
    "Creating a description for a fixed word length"
   ]
  },
  {
   "cell_type": "code",
   "execution_count": null,
   "id": "bd64ed93",
   "metadata": {},
   "outputs": [],
   "source": [
    "inputs = [\n",
    "    \"The Acer Aspire 7 gaming laptop is perfect for the modern gamer. It comes with an AMD Ryzen 5 5500U Processor, 8GB DDR4 RAM, and 512GB SSD Storage. This ensures that you can run all the latest games at high settings and get great frame rates. The Acer Aspire also comes with a 15.6-inch FHD (1920×1080) Display, Windows 10 Home Operating System, and NVIDIA GTX 1650 4GB GDDR6 Graphics.This Acer Aspire 7 is a powerful gaming laptop that offers superior performance and great graphics. This laptop has a backlit keyboard that provides ease of use in low-light conditions. The Full HD Display on this device offers stunning visuals and clear details. It also features 10 hrs of battery backup that lets you stay productive even when you are away from an outlet.\",    \n",
    "    \"Find MacBook Pro price in India. Read MacBook Pro reviews before you buy any Laptops & PCs. Get free demo and avail discount now.\",\n",
    "    \"Hinterland Jumpsuit\",\n",
    "    \"This Beautiful Dress Is A Perfect Fusion Of Casual Comfort And Trendy And A Must-have Item For Every Wardrobe. The Premium Quality Of This Soft Fabric Is Suitable For All Seasons. The Beautiful Floral Print Gives The Dress A Unique Look. Wear This Floral Printed Dress With Your Favorite Pair Of Heels, Sneakers, Or Flats. Product Color May Vary Slightly Due To Photographic Lighting Sources Or Your Monitor Settings.\",\n",
    "    \"Nike Air Max Excee Men's Shoe\",\n",
    "    \"White Inspired by the Nike Air Max 90, the Nike Air Max Excee is a celebration of a classic through a new lens.\" ,\n",
    "    \"You need a couch that can sturdily and stylishly hold up to your daily life. With this easy-to-maintain Jianna Faux Leather Sofa, clean and comfortable is the name of the game. Covered in a durably plush saddle brown faux leather with warm tapered wood legs and under frame, this 3-seater sofa with square arms has an adaptable mid-century modern-meets-farmhouse sensibility with ultra-modern construction to last for years to come. Plus, since it's perfectly sized and easy to assemble and disassemble, moving it from room to room or house to house is a breeze. Assembly required.\" ]\n",
    "max_words=100\n",
    "gpt_prompt = \"Create a description of \"+str(max_words)+\" words from the given paragraph\"\n",
    "\n",
    "for i in range(len(inputs)):\n",
    "    gprompt= gpt_prompt + \"'\"+inputs[i]+\"'.\"\n",
    "    \n",
    "    response = openai.Completion.create( \n",
    "        engine=\"text-davinci-002\", \n",
    "        prompt=gprompt,  \n",
    "        temperature=0, \n",
    "        max_tokens=500, \n",
    "        top_p=1.00)\n",
    "\n",
    "    print()\n",
    "    display(Markdown('**Input '+ str(i+1) +':** ' + gpt_prompt + ' \\'**'+ inputs[i] +'\\'**'))\n",
    "    print(response['choices'][0]['text'].strip())"
   ]
  },
  {
   "cell_type": "markdown",
   "id": "834ef1d9",
   "metadata": {
    "tags": []
   },
   "source": [
    "## Keyword identification\n",
    "Using GPT3 model to identify the keywords from product description."
   ]
  },
  {
   "cell_type": "code",
   "execution_count": null,
   "id": "da388d1d",
   "metadata": {
    "scrolled": true,
    "tags": []
   },
   "outputs": [],
   "source": [
    "inputs = [\n",
    "    '''Empyre Venom Black T-Shirt - One Size - Black Graphic T-shirts - Men's Clothing at Zumiez, Rock a one-of-a-kind design from Empyre in the Venom black t-shirt. This cotton tee features a screen-printed rose graphic at the left chest along with a white Empyre logo. The back displays a large bouquet of flowers with a snake intertwined throughout and text that reads \"Empyre; Everything has a price.''',\n",
    "    '''This Beautiful Dress Is A Perfect Fusion Of Casual Comfort And Trendy And A Must-have Item For Every Wardrobe. The Premium Quality Of This Soft Fabric Is Suitable For All Seasons. The Beautiful Floral Print Gives The Dress A Unique Look. Wear This Floral Printed Dress With Your Favorite Pair Of Heels, Sneakers, Or Flats. Product Color May Vary Slightly Due To Photographic Lighting Sources Or Your Monitor Settings.''',\n",
    "    '''TaylorMade RBZ Speedlite Steel 13 Piece Golf Set, Joining Team TaylorMade has never been easier. Packed with proven technologies, this complete set is crafted for golfers of all skill levels to provide easy launch, explosive distance and max forgiveness in one lightweight package. The set includes driver, 3 & 5 wood, 4 & 5 rescue, 6-9 iron, pitching wedge, sand wedge and a putter. '''\n",
    "]\n",
    "\n",
    "# read the pattern from file\n",
    "f = open(\"keywords.txt\", \"r\")\n",
    "key=f.read()\n",
    "f.close()\n",
    "print()\n",
    "\n",
    "for i in range(len(inputs)):\n",
    "    gprompt=key+inputs[i]+\"\\nKeywords =\"\n",
    "    openai.api_key=api_key\n",
    "\n",
    "    response = openai.Completion.create( \n",
    "        engine=\"text-davinci-002\", \n",
    "        prompt=gprompt,  \n",
    "        temperature=0, stop=['\\n'],\n",
    "        max_tokens=500, \n",
    "        top_p=1.00)\n",
    "    display(Markdown('\\n**Input '+ str(i+1) +':** **'+ inputs[i] +'\\'**'))\n",
    "    print(response['choices'][0]['text'].strip())"
   ]
  },
  {
   "cell_type": "markdown",
   "id": "f6d8a2aa",
   "metadata": {},
   "source": [
    "## Product Summary\n",
    "Using google search results to generate product summary.\n",
    "Loop through top 3 results and extract "
   ]
  },
  {
   "cell_type": "code",
   "execution_count": null,
   "id": "f01fefcb",
   "metadata": {
    "scrolled": true,
    "tags": []
   },
   "outputs": [],
   "source": [
    "import asyncio,json\n",
    "from pyppeteer import launch\n",
    "from bs4 import BeautifulSoup\n",
    "\n",
    "async def main():\n",
    "    browser = await launch(Headless = True,Args = [\"--no-sandbox\",\"--disable-dev-shm-usage\",\"--disable-gpu\",\"--disable-setuid-sandbox\",\"--no-first-run\",\"--no-zygote\",\"--single-process\"])\n",
    "    page = await browser.newPage()\n",
    "    await page.setViewport({\"width\": 1920,\"height\": 1080})\n",
    "    await page.goto('https://www.google.com/search?q=Nike+Air+Max+Excee+Men%27s+Shoe')\n",
    "    \n",
    "    titles = await page.querySelectorAll('.VwiC3b,.yXK7lf,.MUxGbd,.yDYNvb,.lyLwlc')\n",
    "    links = await page.querySelectorAll('.fG8Fp,.uo4vr')\n",
    "   \n",
    "    productLinks=[]\n",
    "    price=[]\n",
    "    print('Scrapping search results\\n------------------------')\n",
    "    for i in range(4):\n",
    "        title1 = await page.evaluate('(element) => element.textContent', titles[i])\n",
    "        print(\"Summary \"+str(i+1)+\": \",title1)\n",
    "        links1 = await page.evaluate('(element) => element.textContent', links[i])\n",
    "        print(\"Price & Review \"+str(i+1)+\": \",links1, \"\\n\")\n",
    "        price.append(links1)\n",
    "        productLinks.append(title1+links1)\n",
    "  \n",
    "    await browser.close()\n",
    "\n",
    "    \n",
    "    gprompt=\"Create a description of 400 words from the given list of paragraphs ,\"+str(productLinks)\n",
    "    \n",
    "    #print(gprompt)\n",
    "    \n",
    "    response = openai.Completion.create( \n",
    "            engine=\"text-davinci-002\", \n",
    "            prompt=gprompt,  \n",
    "            temperature=0, \n",
    "            max_tokens=500, \n",
    "            top_p=1.00)\n",
    "\n",
    "    \n",
    "    gprompt=\"Find an average prize and rating from the sentences list, The list of sentences are ,\"+str(price)\n",
    "    \n",
    "    #print(gprompt)\n",
    "    \n",
    "    response1 = openai.Completion.create( \n",
    "            engine=\"text-davinci-002\", \n",
    "            prompt=gprompt,  \n",
    "            temperature=0, \n",
    "            max_tokens=50, \n",
    "            top_p=1.00) \n",
    "\n",
    "    ##    display(Markdown('**'+ gprompt +'**'))\n",
    "    print('Product Summary\\n----------------')\n",
    "    print(response['choices'][0]['text'].strip()+'\\n')\n",
    "    print('Price & Review Info\\n--------------------')\n",
    "    print(response1['choices'][0]['text'].strip()+'\\n')\n",
    "    \n",
    "loop = asyncio.get_event_loop()\n",
    "asyncio.run_coroutine_threadsafe(main(), loop)\n"
   ]
  },
  {
   "cell_type": "markdown",
   "id": "6e542590",
   "metadata": {},
   "source": [
    "## Highlight words from description\n",
    "Get the list of insight keys related to buying from the description"
   ]
  },
  {
   "cell_type": "code",
   "execution_count": null,
   "id": "11a750c8",
   "metadata": {},
   "outputs": [],
   "source": [
    "inputs = [\n",
    "    '''Lifestyle Solutions Mavrick Sofa with Rolled Arms, Grey Dark Grey microfiber The MAVRICK Collection is a lovely set which features curved or rolled arm sofa, loveseat, and chair which offer the perfect place for family, friends, or casual acquaintances to rest, relax, and recharge. The wooden frame offers only the finest protection from all manner of bouncing or jostling that furniture may experience especially with little ones around. Minimal assembly is required, but all is worth it with the comfort and fun to be had by all enjoying this lovely set. Features: Color: Grey. Dimensions: 33.86\" H x 78.75\" W x 31.50\" D. Product Weight: 83 lbs. Weight Capacity: 792 lbs. Seat Height: 18.5\". Seat Cushion Thickness: 7.87\".''',\n",
    "    '''Backlit Keyboard Work or play, the Acer Aspire 7 Gaming Laptop is sure to be your ideal computing partner as it comes with a host of features. Boasting a large 39.62 cm (15.6) Full HD LED IPS display, this gaming laptop ensures that every visual, be it while playing games or watching a video, is crisp and vibrant. Moreover, it comes with the combination of an AMD Ryzen 5500U processor and NVIDIA GeForce GTX 1650 GPU, making it a powerful and reliable system for everyday use''',\n",
    "    '''Pattern Is Solid. Style Code Is Hlss000438. Reversible Is No. Sales Package Is Sweat Shirt. Occasion Is Casual. Hooded Is Yes. Color Is Black. Fabric Care Is Gentle Machine Wash. Neck Is Hooded Neck. Sleeve Is Full Sleeve. Fabric Is Polyester. Suitable For Is Western Wear.'''\n",
    "    ]\n",
    "\n",
    "for i in range(len(inputs)):\n",
    "    gprompt='In this product description, number the most significant keywords for buying, and the product description is \"'+inputs[i]+'\"'\n",
    "\n",
    "    response = openai.Completion.create( \n",
    "        engine=\"text-davinci-002\", \n",
    "        prompt=gprompt,  \n",
    "        temperature=0.7, \n",
    "        max_tokens=400, \n",
    "        top_p=1.00)\n",
    "\n",
    "    display(Markdown('**Input '+ str(i+1)+'**: ' + inputs[i]))\n",
    "    print(response['choices'][0]['text'].strip()+'\\n')"
   ]
  },
  {
   "cell_type": "markdown",
   "id": "5946cb09",
   "metadata": {},
   "source": [
    "## Extracting Key Attributes for a Product\n",
    "Using GPT-3 model to list key attributes and values for a product category"
   ]
  },
  {
   "cell_type": "code",
   "execution_count": null,
   "id": "309cddd7",
   "metadata": {},
   "outputs": [],
   "source": [
    "inputs = [\n",
    "    'Laptop',\n",
    "    'Purse',\n",
    "    'Golf Club',\n",
    "    'Digital Camera'\n",
    "    ]\n",
    "\n",
    "for i in range(len(inputs)):\n",
    "    gprompt='Given a product category try to identify the key attributes and the product is \"'+inputs[i]+'\"'\n",
    "\n",
    "    response = openai.Completion.create( \n",
    "        engine=\"text-davinci-002\", \n",
    "        prompt=gprompt,  \n",
    "        temperature=0.7, \n",
    "        max_tokens=400, \n",
    "        top_p=1.00)\n",
    "\n",
    "    display(Markdown('**Input '+ str(i+1)+'**: ' + inputs[i]))\n",
    "    print(response['choices'][0]['text'].strip()+'\\n')\n",
    "\n",
    "\n",
    "inputs = [\n",
    "    'portability',\n",
    "    'battery life',\n",
    "    'processing power',\n",
    "    'storage'\n",
    "    ]\n",
    "\n",
    "for i in range(len(inputs)):\n",
    "    gprompt='Given a product key attributes try to get the possible values and the product key attribute is \"'+inputs[i]+'\"'\n",
    "\n",
    "    response = openai.Completion.create( \n",
    "        engine=\"text-davinci-002\", \n",
    "        prompt=gprompt,  \n",
    "        temperature=0.7, \n",
    "        max_tokens=400, \n",
    "        top_p=1.00)\n",
    "\n",
    "    display(Markdown('**Input '+ str(i+1)+'**: ' + inputs[i]))\n",
    "    print(response['choices'][0]['text'].strip()+'\\n')\n"
   ]
  }
 ],
 "metadata": {
  "interpreter": {
   "hash": "fa0b719637b7c144241ecdbd6aeea6d475de3c62293647133f079c86366efb2f"
  },
  "kernelspec": {
   "display_name": "Python 3.10.6 64-bit",
   "language": "python",
   "name": "python3"
  },
  "language_info": {
   "codemirror_mode": {
    "name": "ipython",
    "version": 3
   },
   "file_extension": ".py",
   "mimetype": "text/x-python",
   "name": "python",
   "nbconvert_exporter": "python",
   "pygments_lexer": "ipython3",
   "version": "3.10.6"
  },
  "vscode": {
   "interpreter": {
    "hash": "81794d4967e6c3204c66dcd87b604927b115b27c00565d3d43f05ba2f3a2cb0d"
   }
  }
 },
 "nbformat": 4,
 "nbformat_minor": 5
}
